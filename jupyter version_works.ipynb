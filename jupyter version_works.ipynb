{
 "cells": [
  {
   "cell_type": "code",
   "execution_count": 20,
   "metadata": {},
   "outputs": [],
   "source": [
    "import numpy as np\n",
    "import pandas as pd\n",
    "import matplotlib.pyplot as plt"
   ]
  },
  {
   "cell_type": "code",
   "execution_count": 57,
   "metadata": {},
   "outputs": [
    {
     "name": "stdout",
     "output_type": "stream",
     "text": [
      "Fitted regression: y = -0.1899999999999995 + 2.05x\n"
     ]
    }
   ],
   "source": [
    "df = pd.DataFrame({'x':[1,2,3,4,5],'y':[2,4,5.5,8.1,10.2]})     #len(x)=len(y) \n",
    "df['xy'] = df['x']*df['y']\n",
    "df['x2'] = df['x']**2\n",
    "b = (df['xy'].sum()-df['x'].sum()*df['y'].sum()/len(x)) / (df['x2'].sum()-df['x'].sum()**2/len(x))\n",
    "a = df['y'].sum()/len(x)-b*df['x'].sum()/len(x)\n",
    "df['^y'] = a + b*df['x']\n",
    "print('Fitted regression: y = '+str(a)+' + '+str(b)+'x')"
   ]
  },
  {
   "cell_type": "code",
   "execution_count": 63,
   "metadata": {},
   "outputs": [
    {
     "data": {
      "text/plain": [
       "[<matplotlib.lines.Line2D at 0x1a54a380388>]"
      ]
     },
     "execution_count": 63,
     "metadata": {},
     "output_type": "execute_result"
    },
    {
     "data": {
      "image/png": "[encoded data removed]",
      "text/plain": [
       "<Figure size 432x288 with 1 Axes>"
      ]
     },
     "metadata": {
      "needs_background": "light"
     },
     "output_type": "display_data"
    }
   ],
   "source": [
    "plt.scatter(df['x'], df['y'])\n",
    "plt.plot(df['x'], df['^y'], color='orange')"
   ]
  },
  {
   "cell_type": "markdown",
   "metadata": {},
   "source": [
    "# In a function"
   ]
  },
  {
   "cell_type": "code",
   "execution_count": 85,
   "metadata": {},
   "outputs": [],
   "source": [
    "def linearreg(): #returns linear regression between 2 arrays of similar size\n",
    "    x = name of x-array #dataframe columns, numpy arrays, lists etc.\n",
    "    y = name of y-array\n",
    "    df = pd.DataFrame({'x':x,'y':y})\n",
    "    df['xy'] = df['x']*df['y']\n",
    "    df['x2'] = df['x']**2\n",
    "    b = (df['xy'].sum()-df['x'].sum()*df['y'].sum()/len(x))/(df['x2'].sum()-df['x'].sum()**2/len(x))\n",
    "    a = df['y'].sum()/len(x)-b*df['x'].sum()/len(x)\n",
    "    df['^y'] = a + b*df['x']\n",
    "    print('Fitted regression: y = '+str(a)+' + '+str(b)+'x')\n",
    "    plt.scatter(df['x'], df['y'])\n",
    "    plt.plot(df['x'], df['^y'], color='orange')"
   ]
  }
 ],
 "metadata": {
  "kernelspec": {
   "display_name": "Python 3",
   "language": "python",
   "name": "python3"
  },
  "language_info": {
   "codemirror_mode": {
    "name": "ipython",
    "version": 3
   },
   "file_extension": ".py",
   "mimetype": "text/x-python",
   "name": "python",
   "nbconvert_exporter": "python",
   "pygments_lexer": "ipython3",
   "version": "3.7.4"
  }
 },
 "nbformat": 4,
 "nbformat_minor": 2
}
